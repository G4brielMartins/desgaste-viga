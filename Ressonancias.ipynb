{
 "cells": [
  {
   "cell_type": "markdown",
   "metadata": {},
   "source": [
    "Classificação de nível de desgaste a partir das frequências de ressonância"
   ]
  },
  {
   "cell_type": "code",
   "execution_count": 1,
   "metadata": {},
   "outputs": [],
   "source": [
    "import os\n",
    "from multiprocessing import Pool\n",
    "\n",
    "import numpy as np\n",
    "import pandas as pd\n",
    "import matplotlib.pyplot as plt\n",
    "from sklearn.model_selection import train_test_split, cross_validate\n",
    "from sklearn.ensemble import RandomForestClassifier\n",
    "from sklearn.metrics import accuracy_score, f1_score, ConfusionMatrixDisplay\n",
    "\n",
    "from DataImporter import achar_feathers, achar_ressonancias, agrupar_por_desgaste"
   ]
  },
  {
   "cell_type": "code",
   "execution_count": 2,
   "metadata": {},
   "outputs": [],
   "source": [
    "RNG_SEED = 42\n",
    "PASTA_DADOS = \"/home/gabrielmc/Documentos/LINSE/Dados\""
   ]
  },
  {
   "cell_type": "markdown",
   "metadata": {},
   "source": [
    "# Importação dos Dados\n",
    "---"
   ]
  },
  {
   "cell_type": "markdown",
   "metadata": {},
   "source": [
    "São identificados os dois primeiros harmônicos de cada amostra. Os dados utilizados estão disponíveis em https://drive.google.com/drive/folders/1PO2f4bMhO3MOGgz_Fo8y6pxQmCKuPypV?usp=sharing"
   ]
  },
  {
   "cell_type": "code",
   "execution_count": 3,
   "metadata": {},
   "outputs": [],
   "source": [
    "all_feathers = achar_feathers(PASTA_DADOS)\n",
    "sorted_feathers = agrupar_por_desgaste(all_feathers)"
   ]
  },
  {
   "cell_type": "code",
   "execution_count": 4,
   "metadata": {},
   "outputs": [],
   "source": [
    "def import_data(feathers_catalogados: list[list[str]], imu: str) -> pd.DataFrame:\n",
    "    dfs = []\n",
    "    for desgaste_lvl, feathers in enumerate(feathers_catalogados):\n",
    "        if feathers == [None]:\n",
    "            continue # ignora níveis de desgaste sem amostras\n",
    "        \n",
    "        name_tags = [os.path.basename(feather)[:-8] for feather in feathers]\n",
    "        inputs = [(i, imu) for i in feathers]\n",
    "        with Pool() as pool:\n",
    "            data = list(pool.starmap(achar_ressonancias, inputs))\n",
    "        flat_data = [np.array(i)[:, :2].flatten() for i in data]\n",
    "        index = pd.MultiIndex.from_product([[desgaste_lvl], name_tags], names= [\"Desgaste\", \"Amostra\"])\n",
    "        dfs.append(pd.DataFrame(flat_data, index=index))\n",
    "    \n",
    "    return pd.concat(dfs)"
   ]
  },
  {
   "cell_type": "code",
   "execution_count": 5,
   "metadata": {},
   "outputs": [
    {
     "data": {
      "text/html": [
       "<div>\n",
       "<style scoped>\n",
       "    .dataframe tbody tr th:only-of-type {\n",
       "        vertical-align: middle;\n",
       "    }\n",
       "\n",
       "    .dataframe tbody tr th {\n",
       "        vertical-align: top;\n",
       "    }\n",
       "\n",
       "    .dataframe thead th {\n",
       "        text-align: right;\n",
       "    }\n",
       "</style>\n",
       "<table border=\"1\" class=\"dataframe\">\n",
       "  <thead>\n",
       "    <tr style=\"text-align: right;\">\n",
       "      <th></th>\n",
       "      <th></th>\n",
       "      <th>0</th>\n",
       "      <th>1</th>\n",
       "      <th>2</th>\n",
       "      <th>3</th>\n",
       "    </tr>\n",
       "    <tr>\n",
       "      <th>Desgaste</th>\n",
       "      <th>Amostra</th>\n",
       "      <th></th>\n",
       "      <th></th>\n",
       "      <th></th>\n",
       "      <th></th>\n",
       "    </tr>\n",
       "  </thead>\n",
       "  <tbody>\n",
       "    <tr>\n",
       "      <th rowspan=\"5\" valign=\"top\">0</th>\n",
       "      <th>R2_A2_0.15</th>\n",
       "      <td>-32.506695</td>\n",
       "      <td>-24.644065</td>\n",
       "      <td>29.952</td>\n",
       "      <td>81.744</td>\n",
       "    </tr>\n",
       "    <tr>\n",
       "      <th>R3_A2_0.75</th>\n",
       "      <td>-30.338431</td>\n",
       "      <td>-27.708322</td>\n",
       "      <td>29.744</td>\n",
       "      <td>81.744</td>\n",
       "    </tr>\n",
       "    <tr>\n",
       "      <th>R3_A2_0.15</th>\n",
       "      <td>-32.627895</td>\n",
       "      <td>-24.083694</td>\n",
       "      <td>29.952</td>\n",
       "      <td>81.744</td>\n",
       "    </tr>\n",
       "    <tr>\n",
       "      <th>R3_A2_0.4</th>\n",
       "      <td>-32.702030</td>\n",
       "      <td>-26.401221</td>\n",
       "      <td>29.744</td>\n",
       "      <td>81.536</td>\n",
       "    </tr>\n",
       "    <tr>\n",
       "      <th>R3_A2_0.2</th>\n",
       "      <td>-32.236878</td>\n",
       "      <td>-26.275198</td>\n",
       "      <td>29.744</td>\n",
       "      <td>81.744</td>\n",
       "    </tr>\n",
       "  </tbody>\n",
       "</table>\n",
       "</div>"
      ],
      "text/plain": [
       "                             0          1       2       3\n",
       "Desgaste Amostra                                         \n",
       "0        R2_A2_0.15 -32.506695 -24.644065  29.952  81.744\n",
       "         R3_A2_0.75 -30.338431 -27.708322  29.744  81.744\n",
       "         R3_A2_0.15 -32.627895 -24.083694  29.952  81.744\n",
       "         R3_A2_0.4  -32.702030 -26.401221  29.744  81.536\n",
       "         R3_A2_0.2  -32.236878 -26.275198  29.744  81.744"
      ]
     },
     "execution_count": 5,
     "metadata": {},
     "output_type": "execute_result"
    }
   ],
   "source": [
    "dfs_ressonancias = []\n",
    "for imu in (\"imu1accz\", \"imu2accz\"):\n",
    "    dfs_ressonancias.append(import_data(sorted_feathers, imu))\n",
    "df_ressonancias = pd.concat(dfs_ressonancias)\n",
    "df_ressonancias.head()"
   ]
  },
  {
   "cell_type": "code",
   "execution_count": 6,
   "metadata": {},
   "outputs": [
    {
     "data": {
      "text/html": [
       "<div>\n",
       "<style scoped>\n",
       "    .dataframe tbody tr th:only-of-type {\n",
       "        vertical-align: middle;\n",
       "    }\n",
       "\n",
       "    .dataframe tbody tr th {\n",
       "        vertical-align: top;\n",
       "    }\n",
       "\n",
       "    .dataframe thead th {\n",
       "        text-align: right;\n",
       "    }\n",
       "</style>\n",
       "<table border=\"1\" class=\"dataframe\">\n",
       "  <thead>\n",
       "    <tr style=\"text-align: right;\">\n",
       "      <th></th>\n",
       "      <th></th>\n",
       "      <th>0</th>\n",
       "      <th>1</th>\n",
       "      <th>2</th>\n",
       "      <th>3</th>\n",
       "    </tr>\n",
       "    <tr>\n",
       "      <th>Desgaste</th>\n",
       "      <th>Amostra</th>\n",
       "      <th></th>\n",
       "      <th></th>\n",
       "      <th></th>\n",
       "      <th></th>\n",
       "    </tr>\n",
       "  </thead>\n",
       "  <tbody>\n",
       "    <tr>\n",
       "      <th rowspan=\"5\" valign=\"top\">0</th>\n",
       "      <th>R2_A2_0.15</th>\n",
       "      <td>-27.310629</td>\n",
       "      <td>-23.940298</td>\n",
       "      <td>29.952</td>\n",
       "      <td>81.744</td>\n",
       "    </tr>\n",
       "    <tr>\n",
       "      <th>R3_A2_0.75</th>\n",
       "      <td>-25.156284</td>\n",
       "      <td>-26.992345</td>\n",
       "      <td>29.744</td>\n",
       "      <td>81.744</td>\n",
       "    </tr>\n",
       "    <tr>\n",
       "      <th>R3_A2_0.15</th>\n",
       "      <td>-27.494724</td>\n",
       "      <td>-23.409126</td>\n",
       "      <td>29.848</td>\n",
       "      <td>81.744</td>\n",
       "    </tr>\n",
       "    <tr>\n",
       "      <th>R3_A2_0.4</th>\n",
       "      <td>-27.552470</td>\n",
       "      <td>-25.676095</td>\n",
       "      <td>29.744</td>\n",
       "      <td>81.536</td>\n",
       "    </tr>\n",
       "    <tr>\n",
       "      <th>R3_A2_0.2</th>\n",
       "      <td>-27.040265</td>\n",
       "      <td>-25.555047</td>\n",
       "      <td>29.848</td>\n",
       "      <td>81.744</td>\n",
       "    </tr>\n",
       "  </tbody>\n",
       "</table>\n",
       "</div>"
      ],
      "text/plain": [
       "                             0          1       2       3\n",
       "Desgaste Amostra                                         \n",
       "0        R2_A2_0.15 -27.310629 -23.940298  29.952  81.744\n",
       "         R3_A2_0.75 -25.156284 -26.992345  29.744  81.744\n",
       "         R3_A2_0.15 -27.494724 -23.409126  29.848  81.744\n",
       "         R3_A2_0.4  -27.552470 -25.676095  29.744  81.536\n",
       "         R3_A2_0.2  -27.040265 -25.555047  29.848  81.744"
      ]
     },
     "execution_count": 6,
     "metadata": {},
     "output_type": "execute_result"
    }
   ],
   "source": [
    "df_media = (dfs_ressonancias[0] + dfs_ressonancias[1]) / 2\n",
    "df_media.head()"
   ]
  },
  {
   "cell_type": "code",
   "execution_count": 7,
   "metadata": {},
   "outputs": [],
   "source": [
    "df_aux = df_ressonancias.reset_index()\n",
    "data = np.array(df_aux.drop([\"Desgaste\", \"Amostra\"], axis= 1))\n",
    "labels = np.array(df_aux.loc[:, \"Desgaste\"])\n",
    "\n",
    "x_treino, x_teste, y_treino, y_teste = train_test_split(data, labels, test_size=.2,\n",
    "                                                    stratify=labels, random_state=RNG_SEED)"
   ]
  },
  {
   "cell_type": "markdown",
   "metadata": {},
   "source": [
    "# Random Forest Classifier\n",
    "---"
   ]
  },
  {
   "cell_type": "code",
   "execution_count": 8,
   "metadata": {},
   "outputs": [
    {
     "name": "stdout",
     "output_type": "stream",
     "text": [
      "Média Accuracy:   74.43%\n",
      "DP Accuracy:       0.011\n",
      "-------------------------\n",
      "Média F1:         74.26%\n",
      "Média Precision:  75.62%\n",
      "Média Recall:     74.34%\n"
     ]
    }
   ],
   "source": [
    "modelo_rfc = RandomForestClassifier(random_state=RNG_SEED)\n",
    "metricas = [\"accuracy\", \"f1_macro\", \"precision_macro\", \"recall_macro\"]\n",
    "scores = cross_validate(modelo_rfc, x_treino, y_treino, scoring=metricas)\n",
    "\n",
    "mensagem = f\"\"\"Média Accuracy: {np.mean(scores[\"test_accuracy\"]):>8.2%}\n",
    "DP Accuracy: {np.std(scores[\"test_accuracy\"]):>11.2}\n",
    "{'':-^25}\n",
    "Média F1: {np.mean(scores[\"test_f1_macro\"]):>14.2%}\n",
    "Média Precision: {np.mean(scores[\"test_precision_macro\"]):>7.2%}\n",
    "Média Recall: {np.mean(scores[\"test_recall_macro\"]):>10.2%}\"\"\"\n",
    "\n",
    "print(mensagem)"
   ]
  },
  {
   "cell_type": "code",
   "execution_count": 9,
   "metadata": {},
   "outputs": [
    {
     "name": "stdout",
     "output_type": "stream",
     "text": [
      "Accuracy: 74.03%\n",
      "F1:       74.16%\n"
     ]
    }
   ],
   "source": [
    "modelo_rfc.fit(x_treino, y_treino)\n",
    "predicao_rfc = modelo_rfc.predict(x_teste)\n",
    "\n",
    "mensagem = f\"\"\"Accuracy: {accuracy_score(y_teste, predicao_rfc):>5.2%}\n",
    "F1: {f1_score(y_teste, predicao_rfc, average='macro'):>12.2%}\"\"\"\n",
    "print(mensagem)"
   ]
  },
  {
   "cell_type": "code",
   "execution_count": 10,
   "metadata": {},
   "outputs": [
    {
     "data": {
      "image/png": "[encoded data removed]",
      "text/plain": [
       "<Figure size 640x480 with 2 Axes>"
      ]
     },
     "metadata": {},
     "output_type": "display_data"
    }
   ],
   "source": [
    "ConfusionMatrixDisplay.from_predictions(y_teste, predicao_rfc)\n",
    "plt.show()"
   ]
  }
 ],
 "metadata": {
  "kernelspec": {
   "display_name": ".venv",
   "language": "python",
   "name": "python3"
  },
  "language_info": {
   "codemirror_mode": {
    "name": "ipython",
    "version": 3
   },
   "file_extension": ".py",
   "mimetype": "text/x-python",
   "name": "python",
   "nbconvert_exporter": "python",
   "pygments_lexer": "ipython3",
   "version": "3.11.0rc1"
  }
 },
 "nbformat": 4,
 "nbformat_minor": 2
}
