{
 "cells": [
  {
   "cell_type": "code",
   "execution_count": 29,
   "metadata": {},
   "outputs": [],
   "source": [
    "import os\n",
    "from multiprocessing import Pool\n",
    "\n",
    "import numpy as np\n",
    "import pandas as pd\n",
    "import plotly.graph_objects as go\n",
    "\n",
    "from scipy.signal import find_peaks\n",
    "from Tools.DataChecker import DataHandler"
   ]
  },
  {
   "cell_type": "code",
   "execution_count": 30,
   "metadata": {},
   "outputs": [],
   "source": [
    "TEST_PATH = \"/home/gabrielmc/Documentos/LINSE/Dados\"\n",
    "\n",
    "DISTANCIA_PICOS = 10"
   ]
  },
  {
   "cell_type": "code",
   "execution_count": 31,
   "metadata": {},
   "outputs": [],
   "source": [
    "def achar_feathers(pasta: str|os.PathLike) -> list[str]:\n",
    "    buffer = []\n",
    "    def loop(path):\n",
    "        for i in os.listdir(path):\n",
    "            p = os.path.join(path, i)\n",
    "            if os.path.isdir(p):\n",
    "                loop(p)\n",
    "            elif i.endswith(\".feather\"):\n",
    "                buffer.append(p)\n",
    "    loop(pasta)\n",
    "    \n",
    "    return buffer"
   ]
  },
  {
   "cell_type": "code",
   "execution_count": 32,
   "metadata": {},
   "outputs": [],
   "source": [
    "def atuador(path: str|os.PathLike) -> int:\n",
    "    file_name = os.path.basename(path)\n",
    "    atuador = int(file_name.split(\"_\")[1][1])\n",
    "    \n",
    "    return atuador"
   ]
  },
  {
   "cell_type": "code",
   "execution_count": 33,
   "metadata": {},
   "outputs": [],
   "source": [
    "def desgaste(path: str|os.PathLike) -> int:\n",
    "    dir_path = os.path.dirname(path)\n",
    "    dir = dir_path[dir_path.rfind('Viga'):]\n",
    "    desgaste_lvl = 0 if dir.find(\"Intacta\") > 0 else int(dir[-1])\n",
    "    \n",
    "    return desgaste_lvl"
   ]
  },
  {
   "cell_type": "code",
   "execution_count": 34,
   "metadata": {},
   "outputs": [],
   "source": [
    "def sort_by_desgaste(feather_paths: list[str|os.PathLike]) -> list[list[str]]:\n",
    "    sorted_paths = [[None] for _ in range(8)]\n",
    "    for path in feather_paths:\n",
    "        d = desgaste(path)\n",
    "        if sorted_paths[d][0] is None:\n",
    "            sorted_paths[d][0] = path\n",
    "        else:\n",
    "            sorted_paths[d].append(path)\n",
    "    \n",
    "    return sorted_paths"
   ]
  },
  {
   "cell_type": "code",
   "execution_count": 35,
   "metadata": {},
   "outputs": [],
   "source": [
    "def achar_ressonancias(feather: str|os.PathLike) -> list[int]:\n",
    "    dac_n = atuador(feather)\n",
    "    \n",
    "    data = DataHandler(feather, dac=f'dac{dac_n}', imu='imu1accz')\n",
    "    data.generate_fir_freq()\n",
    "    fir_freq = np.array(data.fir_freq)\n",
    "\n",
    "    altura = np.mean(fir_freq[0]) + abs(np.mean(fir_freq[0]) * .33)\n",
    "    indices_picos = find_peaks(fir_freq[0], height=altura, width=DISTANCIA_PICOS)[0]\n",
    "    frequencias = [fir_freq[1, i] for i in indices_picos]\n",
    "    \n",
    "    return frequencias"
   ]
  },
  {
   "cell_type": "code",
   "execution_count": 36,
   "metadata": {},
   "outputs": [],
   "source": [
    "all_feathers = achar_feathers(TEST_PATH)"
   ]
  },
  {
   "cell_type": "code",
   "execution_count": 37,
   "metadata": {},
   "outputs": [],
   "source": [
    "sorted_feathers = sort_by_desgaste(all_feathers)"
   ]
  },
  {
   "cell_type": "code",
   "execution_count": 38,
   "metadata": {},
   "outputs": [],
   "source": [
    "dfs = []\n",
    "for desgaste_lvl, feathers in enumerate(sorted_feathers):\n",
    "    if feathers == [None]:\n",
    "        continue\n",
    "    with Pool() as pool:\n",
    "        ressonancias = [i for i in pool.imap_unordered(achar_ressonancias, feathers)]\n",
    "        index = pd.MultiIndex.from_product([[desgaste_lvl], range(len(ressonancias))],\n",
    "                                           names= [\"Desgaste\", None])\n",
    "        dfs.append(pd.DataFrame(ressonancias, index=index))\n",
    "df_ressonancias = pd.concat(dfs)\n",
    "df_ressonancias"
   ]
  }
 ],
 "metadata": {
  "kernelspec": {
   "display_name": ".venv",
   "language": "python",
   "name": "python3"
  },
  "language_info": {
   "codemirror_mode": {
    "name": "ipython",
    "version": 3
   },
   "file_extension": ".py",
   "mimetype": "text/x-python",
   "name": "python",
   "nbconvert_exporter": "python",
   "pygments_lexer": "ipython3",
   "version": "3.11.0rc1"
  }
 },
 "nbformat": 4,
 "nbformat_minor": 2
}
