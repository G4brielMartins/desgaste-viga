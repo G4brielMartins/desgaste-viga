{
 "cells": [
  {
   "cell_type": "code",
   "execution_count": null,
   "metadata": {},
   "outputs": [],
   "source": [
    "import os\n",
    "from multiprocessing import Pool\n",
    "\n",
    "import numpy as np\n",
    "import pandas as pd\n",
    "\n",
    "from DataImporter import achar_feathers, achar_ressonancias, agrupar_por_desgaste, importar_respostas_em_frequencia"
   ]
  },
  {
   "cell_type": "code",
   "execution_count": null,
   "metadata": {},
   "outputs": [],
   "source": [
    "PASTA_DADOS = \"/home/gabrielmc/Documentos/LINSE/Atuador1\""
   ]
  },
  {
   "cell_type": "code",
   "execution_count": null,
   "metadata": {},
   "outputs": [],
   "source": [
    "all_feathers = achar_feathers(PASTA_DADOS)\n",
    "sorted_feathers = agrupar_por_desgaste(all_feathers)"
   ]
  },
  {
   "cell_type": "code",
   "execution_count": null,
   "metadata": {},
   "outputs": [],
   "source": [
    "def import_data(feathers_catalogados: list[list[str]], imu: str) -> pd.DataFrame:\n",
    "    dfs = []\n",
    "    for desgaste_lvl, feathers in enumerate(feathers_catalogados):\n",
    "        if feathers == [None]:\n",
    "            continue # ignora níveis de desgaste sem amostras\n",
    "        \n",
    "        name_tags = [os.path.basename(feather)[:-8] for feather in feathers]\n",
    "        inputs = [(i, imu) for i in feathers]\n",
    "        with Pool() as pool:\n",
    "            data = list(pool.starmap(achar_ressonancias, inputs))\n",
    "        flat_data = [np.array(i)[:, :2].flatten() for i in data]\n",
    "        index = pd.MultiIndex.from_product([[desgaste_lvl], name_tags], names= [\"Desgaste\", \"Amostra\"])\n",
    "        dfs.append(pd.DataFrame(flat_data, index=index))\n",
    "    \n",
    "    return pd.concat(dfs)"
   ]
  },
  {
   "cell_type": "code",
   "execution_count": null,
   "metadata": {},
   "outputs": [],
   "source": [
    "df_ressonancias = []\n",
    "for imu in (\"imu1accz\", \"imu2accz\"):\n",
    "    df_ressonancias.append(import_data(sorted_feathers, imu))"
   ]
  },
  {
   "cell_type": "code",
   "execution_count": null,
   "metadata": {},
   "outputs": [],
   "source": [
    "df_media = (df_ressonancias[0] + df_ressonancias[1]) / 2\n",
    "df_media.head()"
   ]
  },
  {
   "cell_type": "code",
   "execution_count": null,
   "metadata": {},
   "outputs": [],
   "source": [
    "df_media.describe()"
   ]
  },
  {
   "cell_type": "code",
   "execution_count": null,
   "metadata": {},
   "outputs": [],
   "source": [
    "df_ressonancias[0].describe()"
   ]
  },
  {
   "cell_type": "code",
   "execution_count": null,
   "metadata": {},
   "outputs": [],
   "source": [
    "df_ressonancias[1].describe()"
   ]
  }
 ],
 "metadata": {
  "kernelspec": {
   "display_name": ".venv",
   "language": "python",
   "name": "python3"
  },
  "language_info": {
   "codemirror_mode": {
    "name": "ipython",
    "version": 3
   },
   "file_extension": ".py",
   "mimetype": "text/x-python",
   "name": "python",
   "nbconvert_exporter": "python",
   "pygments_lexer": "ipython3",
   "version": "3.11.0rc1"
  }
 },
 "nbformat": 4,
 "nbformat_minor": 2
}
