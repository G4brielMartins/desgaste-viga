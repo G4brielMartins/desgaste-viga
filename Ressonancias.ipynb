{
 "cells": [
  {
   "cell_type": "markdown",
   "metadata": {},
   "source": [
    "Classificação de nível de desgaste a partir das frequências de ressonância"
   ]
  },
  {
   "cell_type": "code",
   "execution_count": 2,
   "metadata": {},
   "outputs": [
    {
     "name": "stdout",
     "output_type": "stream",
     "text": [
      "Collecting git+https://github.com/eduardobatista/ActVibModules.git\n",
      "  Cloning https://github.com/eduardobatista/ActVibModules.git to c:\\users\\jpsfb\\appdata\\local\\temp\\pip-req-build-lz__q90w\n",
      "  Resolved https://github.com/eduardobatista/ActVibModules.git to commit 0d3d0b6a3212268aae594dab12c10e4c61ce2aa7\n",
      "  Installing build dependencies: started\n",
      "  Installing build dependencies: finished with status 'done'\n",
      "  Getting requirements to build wheel: started\n",
      "  Getting requirements to build wheel: finished with status 'done'\n",
      "  Preparing metadata (pyproject.toml): started\n",
      "  Preparing metadata (pyproject.toml): finished with status 'done'\n",
      "Requirement already satisfied: numpy in c:\\users\\jpsfb\\appdata\\local\\programs\\python\\python312\\lib\\site-packages (from ActVibModules==1.0) (1.26.4)\n",
      "Requirement already satisfied: pandas in c:\\users\\jpsfb\\appdata\\local\\programs\\python\\python312\\lib\\site-packages (from ActVibModules==1.0) (2.2.2)\n",
      "Collecting pyarrow (from ActVibModules==1.0)\n",
      "  Using cached pyarrow-17.0.0-cp312-cp312-win_amd64.whl.metadata (3.4 kB)\n",
      "Requirement already satisfied: scipy in c:\\users\\jpsfb\\appdata\\local\\programs\\python\\python312\\lib\\site-packages (from ActVibModules==1.0) (1.14.0)\n",
      "Requirement already satisfied: python-dateutil>=2.8.2 in c:\\users\\jpsfb\\appdata\\roaming\\python\\python312\\site-packages (from pandas->ActVibModules==1.0) (2.9.0.post0)\n",
      "Requirement already satisfied: pytz>=2020.1 in c:\\users\\jpsfb\\appdata\\local\\programs\\python\\python312\\lib\\site-packages (from pandas->ActVibModules==1.0) (2024.1)\n",
      "Requirement already satisfied: tzdata>=2022.7 in c:\\users\\jpsfb\\appdata\\local\\programs\\python\\python312\\lib\\site-packages (from pandas->ActVibModules==1.0) (2024.1)\n",
      "Requirement already satisfied: six>=1.5 in c:\\users\\jpsfb\\appdata\\roaming\\python\\python312\\site-packages (from python-dateutil>=2.8.2->pandas->ActVibModules==1.0) (1.16.0)\n",
      "Using cached pyarrow-17.0.0-cp312-cp312-win_amd64.whl (25.1 MB)\n",
      "Building wheels for collected packages: ActVibModules\n",
      "  Building wheel for ActVibModules (pyproject.toml): started\n",
      "  Building wheel for ActVibModules (pyproject.toml): finished with status 'done'\n",
      "  Created wheel for ActVibModules: filename=actvibmodules-1.0-py2.py3-none-any.whl size=9136 sha256=520a0afdd6db183deb639a4768c23e1b1204b60510eab6bda8b3ca0c11cde6cc\n",
      "  Stored in directory: C:\\Users\\jpsfb\\AppData\\Local\\Temp\\pip-ephem-wheel-cache-n5jumh99\\wheels\\6d\\c1\\1b\\256b1ee64e67cc78af94f4f0192ac7b041c37ce5ad2f5e2254\n",
      "Successfully built ActVibModules\n",
      "Installing collected packages: pyarrow, ActVibModules\n",
      "Successfully installed ActVibModules-1.0 pyarrow-17.0.0\n"
     ]
    },
    {
     "name": "stderr",
     "output_type": "stream",
     "text": [
      "  Running command git clone --filter=blob:none --quiet https://github.com/eduardobatista/ActVibModules.git 'C:\\Users\\jpsfb\\AppData\\Local\\Temp\\pip-req-build-lz__q90w'\n"
     ]
    }
   ],
   "source": [
    "!pip install git+https://github.com/eduardobatista/ActVibModules.git"
   ]
  },
  {
   "cell_type": "code",
   "execution_count": 7,
   "metadata": {},
   "outputs": [],
   "source": [
    "import os\n",
    "from multiprocessing import Pool\n",
    "\n",
    "import keras\n",
    "import numpy as np\n",
    "import pandas as pd\n",
    "import matplotlib.pyplot as plt\n",
    "from sklearn.model_selection import train_test_split, cross_validate\n",
    "from sklearn.ensemble import RandomForestClassifier\n",
    "from sklearn.metrics import accuracy_score, f1_score, ConfusionMatrixDisplay\n",
    "\n",
    "from DataImporter import achar_feathers, achar_ressonancias, agrupar_por_desgaste"
   ]
  },
  {
   "cell_type": "code",
   "execution_count": 8,
   "metadata": {},
   "outputs": [],
   "source": [
    "RNG_SEED = 42\n",
    "PASTA_DADOS = \"/home/gabrielmc/Documentos/LINSE/Dados\""
   ]
  },
  {
   "cell_type": "code",
   "execution_count": 5,
   "metadata": {},
   "outputs": [],
   "source": [
    "keras.utils.set_random_seed(RNG_SEED)"
   ]
  },
  {
   "cell_type": "markdown",
   "metadata": {},
   "source": [
    "# Importação dos Dados\n",
    "---"
   ]
  },
  {
   "cell_type": "markdown",
   "metadata": {},
   "source": [
    "São identificados os dois primeiros harmônicos de cada amostra. Os dados utilizados estão disponíveis em https://drive.google.com/drive/folders/1PO2f4bMhO3MOGgz_Fo8y6pxQmCKuPypV?usp=sharing"
   ]
  },
  {
   "cell_type": "code",
   "execution_count": 6,
   "metadata": {},
   "outputs": [
    {
     "ename": "FileNotFoundError",
     "evalue": "[WinError 3] O sistema não pode encontrar o caminho especificado: '/home/gabrielmc/Documentos/LINSE/Dados'",
     "output_type": "error",
     "traceback": [
      "\u001b[1;31m---------------------------------------------------------------------------\u001b[0m",
      "\u001b[1;31mFileNotFoundError\u001b[0m                         Traceback (most recent call last)",
      "Cell \u001b[1;32mIn[6], line 1\u001b[0m\n\u001b[1;32m----> 1\u001b[0m all_feathers \u001b[38;5;241m=\u001b[39m \u001b[43machar_feathers\u001b[49m\u001b[43m(\u001b[49m\u001b[43mPASTA_DADOS\u001b[49m\u001b[43m)\u001b[49m\n\u001b[0;32m      2\u001b[0m sorted_feathers \u001b[38;5;241m=\u001b[39m agrupar_por_desgaste(all_feathers)\n",
      "File \u001b[1;32mc:\\Users\\jpsfb\\OneDrive\\Área de Trabalho\\Teste2\\DataImporter.py:168\u001b[0m, in \u001b[0;36machar_feathers\u001b[1;34m(pasta)\u001b[0m\n\u001b[0;32m    166\u001b[0m         \u001b[38;5;28;01melif\u001b[39;00m i\u001b[38;5;241m.\u001b[39mendswith(\u001b[38;5;124m\"\u001b[39m\u001b[38;5;124m.feather\u001b[39m\u001b[38;5;124m\"\u001b[39m):\n\u001b[0;32m    167\u001b[0m             buffer\u001b[38;5;241m.\u001b[39mappend(p)\n\u001b[1;32m--> 168\u001b[0m \u001b[43mloop\u001b[49m\u001b[43m(\u001b[49m\u001b[43mpasta\u001b[49m\u001b[43m)\u001b[49m\n\u001b[0;32m    170\u001b[0m \u001b[38;5;28;01mreturn\u001b[39;00m buffer\n",
      "File \u001b[1;32mc:\\Users\\jpsfb\\OneDrive\\Área de Trabalho\\Teste2\\DataImporter.py:162\u001b[0m, in \u001b[0;36machar_feathers.<locals>.loop\u001b[1;34m(path)\u001b[0m\n\u001b[0;32m    161\u001b[0m \u001b[38;5;28;01mdef\u001b[39;00m \u001b[38;5;21mloop\u001b[39m(path):\n\u001b[1;32m--> 162\u001b[0m     \u001b[38;5;28;01mfor\u001b[39;00m i \u001b[38;5;129;01min\u001b[39;00m \u001b[43mos\u001b[49m\u001b[38;5;241;43m.\u001b[39;49m\u001b[43mlistdir\u001b[49m\u001b[43m(\u001b[49m\u001b[43mpath\u001b[49m\u001b[43m)\u001b[49m:\n\u001b[0;32m    163\u001b[0m         p \u001b[38;5;241m=\u001b[39m os\u001b[38;5;241m.\u001b[39mpath\u001b[38;5;241m.\u001b[39mjoin(path, i)\n\u001b[0;32m    164\u001b[0m         \u001b[38;5;28;01mif\u001b[39;00m os\u001b[38;5;241m.\u001b[39mpath\u001b[38;5;241m.\u001b[39misdir(p):\n",
      "\u001b[1;31mFileNotFoundError\u001b[0m: [WinError 3] O sistema não pode encontrar o caminho especificado: '/home/gabrielmc/Documentos/LINSE/Dados'"
     ]
    }
   ],
   "source": [
    "all_feathers = achar_feathers(PASTA_DADOS)\n",
    "sorted_feathers = agrupar_por_desgaste(all_feathers)"
   ]
  },
  {
   "cell_type": "code",
   "execution_count": 5,
   "metadata": {},
   "outputs": [],
   "source": [
    "def import_data(feathers_catalogados: list[list[str]], imu: str) -> pd.DataFrame:\n",
    "    dfs = []\n",
    "    for desgaste_lvl, feathers in enumerate(feathers_catalogados):\n",
    "        if feathers == [None]:\n",
    "            continue # ignora níveis de desgaste sem amostras\n",
    "        \n",
    "        name_tags = [os.path.basename(feather)[:-8] for feather in feathers]\n",
    "        inputs = [(i, imu) for i in feathers]\n",
    "        with Pool() as pool:\n",
    "            data = list(pool.starmap(achar_ressonancias, inputs))\n",
    "        flat_data = [np.array(i)[:, :2].flatten() for i in data]\n",
    "        index = pd.MultiIndex.from_product([[desgaste_lvl], name_tags], names= [\"Desgaste\", \"Amostra\"])\n",
    "        dfs.append(pd.DataFrame(flat_data, index=index))\n",
    "    \n",
    "    return pd.concat(dfs)"
   ]
  },
  {
   "cell_type": "code",
   "execution_count": 6,
   "metadata": {},
   "outputs": [
    {
     "data": {
      "text/html": [
       "<div>\n",
       "<style scoped>\n",
       "    .dataframe tbody tr th:only-of-type {\n",
       "        vertical-align: middle;\n",
       "    }\n",
       "\n",
       "    .dataframe tbody tr th {\n",
       "        vertical-align: top;\n",
       "    }\n",
       "\n",
       "    .dataframe thead th {\n",
       "        text-align: right;\n",
       "    }\n",
       "</style>\n",
       "<table border=\"1\" class=\"dataframe\">\n",
       "  <thead>\n",
       "    <tr style=\"text-align: right;\">\n",
       "      <th></th>\n",
       "      <th></th>\n",
       "      <th>0</th>\n",
       "      <th>1</th>\n",
       "      <th>2</th>\n",
       "      <th>3</th>\n",
       "    </tr>\n",
       "    <tr>\n",
       "      <th>Desgaste</th>\n",
       "      <th>Amostra</th>\n",
       "      <th></th>\n",
       "      <th></th>\n",
       "      <th></th>\n",
       "      <th></th>\n",
       "    </tr>\n",
       "  </thead>\n",
       "  <tbody>\n",
       "    <tr>\n",
       "      <th rowspan=\"5\" valign=\"top\">0</th>\n",
       "      <th>R2_A2_0.15</th>\n",
       "      <td>-32.506695</td>\n",
       "      <td>-24.644065</td>\n",
       "      <td>29.952</td>\n",
       "      <td>81.744</td>\n",
       "    </tr>\n",
       "    <tr>\n",
       "      <th>R3_A2_0.75</th>\n",
       "      <td>-30.338431</td>\n",
       "      <td>-27.708322</td>\n",
       "      <td>29.744</td>\n",
       "      <td>81.744</td>\n",
       "    </tr>\n",
       "    <tr>\n",
       "      <th>R3_A2_0.15</th>\n",
       "      <td>-32.627895</td>\n",
       "      <td>-24.083694</td>\n",
       "      <td>29.952</td>\n",
       "      <td>81.744</td>\n",
       "    </tr>\n",
       "    <tr>\n",
       "      <th>R3_A2_0.4</th>\n",
       "      <td>-32.702030</td>\n",
       "      <td>-26.401221</td>\n",
       "      <td>29.744</td>\n",
       "      <td>81.536</td>\n",
       "    </tr>\n",
       "    <tr>\n",
       "      <th>R3_A2_0.2</th>\n",
       "      <td>-32.236878</td>\n",
       "      <td>-26.275198</td>\n",
       "      <td>29.744</td>\n",
       "      <td>81.744</td>\n",
       "    </tr>\n",
       "  </tbody>\n",
       "</table>\n",
       "</div>"
      ],
      "text/plain": [
       "                             0          1       2       3\n",
       "Desgaste Amostra                                         \n",
       "0        R2_A2_0.15 -32.506695 -24.644065  29.952  81.744\n",
       "         R3_A2_0.75 -30.338431 -27.708322  29.744  81.744\n",
       "         R3_A2_0.15 -32.627895 -24.083694  29.952  81.744\n",
       "         R3_A2_0.4  -32.702030 -26.401221  29.744  81.536\n",
       "         R3_A2_0.2  -32.236878 -26.275198  29.744  81.744"
      ]
     },
     "execution_count": 6,
     "metadata": {},
     "output_type": "execute_result"
    }
   ],
   "source": [
    "dfs_ressonancias = []\n",
    "for imu in (\"imu1accz\", \"imu2accz\"):\n",
    "    dfs_ressonancias.append(import_data(sorted_feathers, imu))\n",
    "df_ressonancias = pd.concat(dfs_ressonancias)\n",
    "df_ressonancias.head()"
   ]
  },
  {
   "cell_type": "markdown",
   "metadata": {},
   "source": [
    "# Classificador Multi Classe - Random Forest\n",
    "---"
   ]
  },
  {
   "cell_type": "code",
   "execution_count": 7,
   "metadata": {},
   "outputs": [],
   "source": [
    "df_aux = df_ressonancias.reset_index()\n",
    "data = df_aux.drop([\"Desgaste\", \"Amostra\"], axis= 1)\n",
    "labels = df_aux.loc[:, \"Desgaste\"]\n",
    "\n",
    "x_treino, x_teste, y_treino, y_teste = train_test_split(data, labels, test_size=.2,\n",
    "                                                    stratify=labels, random_state=RNG_SEED)"
   ]
  },
  {
   "cell_type": "code",
   "execution_count": 8,
   "metadata": {},
   "outputs": [
    {
     "name": "stdout",
     "output_type": "stream",
     "text": [
      "Média Accuracy:   74.43%\n",
      "DP Accuracy:       0.011\n",
      "-------------------------\n",
      "Média F1:         74.26%\n",
      "Média Precision:  75.62%\n",
      "Média Recall:     74.34%\n"
     ]
    }
   ],
   "source": [
    "modelo_rfc = RandomForestClassifier(random_state=RNG_SEED)\n",
    "metricas = [\"accuracy\", \"f1_macro\", \"precision_macro\", \"recall_macro\"]\n",
    "scores = cross_validate(modelo_rfc, x_treino, y_treino, scoring=metricas)\n",
    "\n",
    "mensagem = f\"\"\"Média Accuracy: {np.mean(scores[\"test_accuracy\"]):>8.2%}\n",
    "DP Accuracy: {np.std(scores[\"test_accuracy\"]):>11.2}\n",
    "{'':-^25}\n",
    "Média F1: {np.mean(scores[\"test_f1_macro\"]):>14.2%}\n",
    "Média Precision: {np.mean(scores[\"test_precision_macro\"]):>7.2%}\n",
    "Média Recall: {np.mean(scores[\"test_recall_macro\"]):>10.2%}\"\"\"\n",
    "print(mensagem)"
   ]
  },
  {
   "cell_type": "code",
   "execution_count": 9,
   "metadata": {},
   "outputs": [
    {
     "name": "stdout",
     "output_type": "stream",
     "text": [
      "Accuracy: 74.03%\n",
      "F1:       74.16%\n"
     ]
    }
   ],
   "source": [
    "modelo_rfc.fit(x_treino, y_treino)\n",
    "predicao_rfc = modelo_rfc.predict(x_teste)\n",
    "\n",
    "mensagem = f\"\"\"Accuracy: {accuracy_score(y_teste, predicao_rfc):>5.2%}\n",
    "F1: {f1_score(y_teste, predicao_rfc, average='macro'):>12.2%}\"\"\"\n",
    "print(mensagem)"
   ]
  },
  {
   "cell_type": "code",
   "execution_count": 10,
   "metadata": {},
   "outputs": [
    {
     "data": {
      "image/png": "[encoded data removed]",
      "text/plain": [
       "<Figure size 640x480 with 2 Axes>"
      ]
     },
     "metadata": {},
     "output_type": "display_data"
    }
   ],
   "source": [
    "ConfusionMatrixDisplay.from_predictions(y_teste, predicao_rfc)\n",
    "plt.show()"
   ]
  },
  {
   "cell_type": "markdown",
   "metadata": {},
   "source": [
    "# Classificador Binário\n",
    "---"
   ]
  },
  {
   "cell_type": "code",
   "execution_count": 11,
   "metadata": {},
   "outputs": [
    {
     "data": {
      "text/html": [
       "<div>\n",
       "<style scoped>\n",
       "    .dataframe tbody tr th:only-of-type {\n",
       "        vertical-align: middle;\n",
       "    }\n",
       "\n",
       "    .dataframe tbody tr th {\n",
       "        vertical-align: top;\n",
       "    }\n",
       "\n",
       "    .dataframe thead th {\n",
       "        text-align: right;\n",
       "    }\n",
       "</style>\n",
       "<table border=\"1\" class=\"dataframe\">\n",
       "  <thead>\n",
       "    <tr style=\"text-align: right;\">\n",
       "      <th></th>\n",
       "      <th>Desgaste</th>\n",
       "      <th>Amostra</th>\n",
       "      <th>0</th>\n",
       "      <th>1</th>\n",
       "      <th>2</th>\n",
       "      <th>3</th>\n",
       "    </tr>\n",
       "  </thead>\n",
       "  <tbody>\n",
       "    <tr>\n",
       "      <th>0</th>\n",
       "      <td>False</td>\n",
       "      <td>R2_A2_0.15</td>\n",
       "      <td>-32.506695</td>\n",
       "      <td>-24.644065</td>\n",
       "      <td>29.952</td>\n",
       "      <td>81.744</td>\n",
       "    </tr>\n",
       "    <tr>\n",
       "      <th>1</th>\n",
       "      <td>False</td>\n",
       "      <td>R3_A2_0.75</td>\n",
       "      <td>-30.338431</td>\n",
       "      <td>-27.708322</td>\n",
       "      <td>29.744</td>\n",
       "      <td>81.744</td>\n",
       "    </tr>\n",
       "    <tr>\n",
       "      <th>2</th>\n",
       "      <td>False</td>\n",
       "      <td>R3_A2_0.15</td>\n",
       "      <td>-32.627895</td>\n",
       "      <td>-24.083694</td>\n",
       "      <td>29.952</td>\n",
       "      <td>81.744</td>\n",
       "    </tr>\n",
       "    <tr>\n",
       "      <th>3</th>\n",
       "      <td>False</td>\n",
       "      <td>R3_A2_0.4</td>\n",
       "      <td>-32.702030</td>\n",
       "      <td>-26.401221</td>\n",
       "      <td>29.744</td>\n",
       "      <td>81.536</td>\n",
       "    </tr>\n",
       "    <tr>\n",
       "      <th>4</th>\n",
       "      <td>False</td>\n",
       "      <td>R3_A2_0.2</td>\n",
       "      <td>-32.236878</td>\n",
       "      <td>-26.275198</td>\n",
       "      <td>29.744</td>\n",
       "      <td>81.744</td>\n",
       "    </tr>\n",
       "  </tbody>\n",
       "</table>\n",
       "</div>"
      ],
      "text/plain": [
       "   Desgaste     Amostra          0          1       2       3\n",
       "0     False  R2_A2_0.15 -32.506695 -24.644065  29.952  81.744\n",
       "1     False  R3_A2_0.75 -30.338431 -27.708322  29.744  81.744\n",
       "2     False  R3_A2_0.15 -32.627895 -24.083694  29.952  81.744\n",
       "3     False   R3_A2_0.4 -32.702030 -26.401221  29.744  81.536\n",
       "4     False   R3_A2_0.2 -32.236878 -26.275198  29.744  81.744"
      ]
     },
     "execution_count": 11,
     "metadata": {},
     "output_type": "execute_result"
    }
   ],
   "source": [
    "df_ressonancias_bin = df_ressonancias.reset_index()\n",
    "\n",
    "desgaste_bin = df_ressonancias.reset_index()['Desgaste'].map(lambda x: x > 2)\n",
    "df_ressonancias_bin['Desgaste'] = desgaste_bin\n",
    "\n",
    "df_ressonancias_bin.head()"
   ]
  },
  {
   "cell_type": "code",
   "execution_count": 12,
   "metadata": {},
   "outputs": [],
   "source": [
    "data_bin = df_ressonancias_bin.drop(['Desgaste', 'Amostra'], axis=1)\n",
    "labels_bin = df_ressonancias_bin['Desgaste']\n",
    "\n",
    "x_treino_bin, x_teste_bin, y_treino_bin, y_teste_bin = train_test_split(data_bin, labels_bin, test_size=.2,\n",
    "                                                                        stratify=labels_bin, random_state=RNG_SEED)"
   ]
  },
  {
   "cell_type": "markdown",
   "metadata": {},
   "source": [
    "## Random Forest"
   ]
  },
  {
   "cell_type": "code",
   "execution_count": 13,
   "metadata": {},
   "outputs": [
    {
     "name": "stdout",
     "output_type": "stream",
     "text": [
      "Média Accuracy:   91.36%\n",
      "DP Accuracy:       0.025\n",
      "-------------------------\n",
      "Média F1:         90.78%\n",
      "Média Precision:  90.75%\n",
      "Média Recall:     90.83%\n"
     ]
    }
   ],
   "source": [
    "modelo_rfc_bin = RandomForestClassifier(random_state=RNG_SEED)\n",
    "metricas_bin = [\"accuracy\", \"f1_macro\", \"precision_macro\", \"recall_macro\"]\n",
    "scores_bin = cross_validate(modelo_rfc_bin, x_treino_bin, y_treino_bin, scoring=metricas_bin)\n",
    "\n",
    "mensagem = f\"\"\"Média Accuracy: {np.mean(scores_bin[\"test_accuracy\"]):>8.2%}\n",
    "DP Accuracy: {np.std(scores_bin[\"test_accuracy\"]):>11.2}\n",
    "{'':-^25}\n",
    "Média F1: {np.mean(scores_bin[\"test_f1_macro\"]):>14.2%}\n",
    "Média Precision: {np.mean(scores_bin[\"test_precision_macro\"]):>7.2%}\n",
    "Média Recall: {np.mean(scores_bin[\"test_recall_macro\"]):>10.2%}\"\"\"\n",
    "print(mensagem)"
   ]
  },
  {
   "cell_type": "code",
   "execution_count": 14,
   "metadata": {},
   "outputs": [
    {
     "name": "stdout",
     "output_type": "stream",
     "text": [
      "Accuracy: 92.86%\n",
      "F1:       92.31%\n"
     ]
    }
   ],
   "source": [
    "modelo_rfc_bin.fit(x_treino_bin, y_treino_bin)\n",
    "predicao_rfc_bin = modelo_rfc_bin.predict(x_teste_bin)\n",
    "\n",
    "mensagem = f\"\"\"Accuracy: {accuracy_score(y_teste_bin, predicao_rfc_bin):>5.2%}\n",
    "F1: {f1_score(y_teste_bin, predicao_rfc_bin, average='macro'):>12.2%}\"\"\"\n",
    "print(mensagem)"
   ]
  },
  {
   "cell_type": "code",
   "execution_count": 15,
   "metadata": {},
   "outputs": [
    {
     "data": {
      "image/png": "[encoded data removed]",
      "text/plain": [
       "<Figure size 640x480 with 2 Axes>"
      ]
     },
     "metadata": {},
     "output_type": "display_data"
    }
   ],
   "source": [
    "ConfusionMatrixDisplay.from_predictions(y_teste_bin, predicao_rfc_bin)\n",
    "plt.show()"
   ]
  },
  {
   "cell_type": "markdown",
   "metadata": {},
   "source": [
    "## Modelo Sequencial - Keras"
   ]
  },
  {
   "cell_type": "code",
   "execution_count": 16,
   "metadata": {},
   "outputs": [
    {
     "data": {
      "text/html": [
       "<pre style=\"white-space:pre;overflow-x:auto;line-height:normal;font-family:Menlo,'DejaVu Sans Mono',consolas,'Courier New',monospace\"><span style=\"font-weight: bold\">Model: \"sequential\"</span>\n",
       "</pre>\n"
      ],
      "text/plain": [
       "\u001b[1mModel: \"sequential\"\u001b[0m\n"
      ]
     },
     "metadata": {},
     "output_type": "display_data"
    },
    {
     "data": {
      "text/html": [
       "<pre style=\"white-space:pre;overflow-x:auto;line-height:normal;font-family:Menlo,'DejaVu Sans Mono',consolas,'Courier New',monospace\">┏━━━━━━━━━━━━━━━━━━━━━━━━━━━━━━━━━┳━━━━━━━━━━━━━━━━━━━━━━━━┳━━━━━━━━━━━━━━━┓\n",
       "┃<span style=\"font-weight: bold\"> Layer (type)                    </span>┃<span style=\"font-weight: bold\"> Output Shape           </span>┃<span style=\"font-weight: bold\">       Param # </span>┃\n",
       "┡━━━━━━━━━━━━━━━━━━━━━━━━━━━━━━━━━╇━━━━━━━━━━━━━━━━━━━━━━━━╇━━━━━━━━━━━━━━━┩\n",
       "│ dense (<span style=\"color: #0087ff; text-decoration-color: #0087ff\">Dense</span>)                   │ (<span style=\"color: #00d7ff; text-decoration-color: #00d7ff\">None</span>, <span style=\"color: #00af00; text-decoration-color: #00af00\">64</span>)             │           <span style=\"color: #00af00; text-decoration-color: #00af00\">320</span> │\n",
       "├─────────────────────────────────┼────────────────────────┼───────────────┤\n",
       "│ dense_1 (<span style=\"color: #0087ff; text-decoration-color: #0087ff\">Dense</span>)                 │ (<span style=\"color: #00d7ff; text-decoration-color: #00d7ff\">None</span>, <span style=\"color: #00af00; text-decoration-color: #00af00\">32</span>)             │         <span style=\"color: #00af00; text-decoration-color: #00af00\">2,080</span> │\n",
       "├─────────────────────────────────┼────────────────────────┼───────────────┤\n",
       "│ dense_2 (<span style=\"color: #0087ff; text-decoration-color: #0087ff\">Dense</span>)                 │ (<span style=\"color: #00d7ff; text-decoration-color: #00d7ff\">None</span>, <span style=\"color: #00af00; text-decoration-color: #00af00\">1</span>)              │            <span style=\"color: #00af00; text-decoration-color: #00af00\">33</span> │\n",
       "└─────────────────────────────────┴────────────────────────┴───────────────┘\n",
       "</pre>\n"
      ],
      "text/plain": [
       "┏━━━━━━━━━━━━━━━━━━━━━━━━━━━━━━━━━┳━━━━━━━━━━━━━━━━━━━━━━━━┳━━━━━━━━━━━━━━━┓\n",
       "┃\u001b[1m \u001b[0m\u001b[1mLayer (type)                   \u001b[0m\u001b[1m \u001b[0m┃\u001b[1m \u001b[0m\u001b[1mOutput Shape          \u001b[0m\u001b[1m \u001b[0m┃\u001b[1m \u001b[0m\u001b[1m      Param #\u001b[0m\u001b[1m \u001b[0m┃\n",
       "┡━━━━━━━━━━━━━━━━━━━━━━━━━━━━━━━━━╇━━━━━━━━━━━━━━━━━━━━━━━━╇━━━━━━━━━━━━━━━┩\n",
       "│ dense (\u001b[38;5;33mDense\u001b[0m)                   │ (\u001b[38;5;45mNone\u001b[0m, \u001b[38;5;34m64\u001b[0m)             │           \u001b[38;5;34m320\u001b[0m │\n",
       "├─────────────────────────────────┼────────────────────────┼───────────────┤\n",
       "│ dense_1 (\u001b[38;5;33mDense\u001b[0m)                 │ (\u001b[38;5;45mNone\u001b[0m, \u001b[38;5;34m32\u001b[0m)             │         \u001b[38;5;34m2,080\u001b[0m │\n",
       "├─────────────────────────────────┼────────────────────────┼───────────────┤\n",
       "│ dense_2 (\u001b[38;5;33mDense\u001b[0m)                 │ (\u001b[38;5;45mNone\u001b[0m, \u001b[38;5;34m1\u001b[0m)              │            \u001b[38;5;34m33\u001b[0m │\n",
       "└─────────────────────────────────┴────────────────────────┴───────────────┘\n"
      ]
     },
     "metadata": {},
     "output_type": "display_data"
    },
    {
     "data": {
      "text/html": [
       "<pre style=\"white-space:pre;overflow-x:auto;line-height:normal;font-family:Menlo,'DejaVu Sans Mono',consolas,'Courier New',monospace\"><span style=\"font-weight: bold\"> Total params: </span><span style=\"color: #00af00; text-decoration-color: #00af00\">2,433</span> (9.50 KB)\n",
       "</pre>\n"
      ],
      "text/plain": [
       "\u001b[1m Total params: \u001b[0m\u001b[38;5;34m2,433\u001b[0m (9.50 KB)\n"
      ]
     },
     "metadata": {},
     "output_type": "display_data"
    },
    {
     "data": {
      "text/html": [
       "<pre style=\"white-space:pre;overflow-x:auto;line-height:normal;font-family:Menlo,'DejaVu Sans Mono',consolas,'Courier New',monospace\"><span style=\"font-weight: bold\"> Trainable params: </span><span style=\"color: #00af00; text-decoration-color: #00af00\">2,433</span> (9.50 KB)\n",
       "</pre>\n"
      ],
      "text/plain": [
       "\u001b[1m Trainable params: \u001b[0m\u001b[38;5;34m2,433\u001b[0m (9.50 KB)\n"
      ]
     },
     "metadata": {},
     "output_type": "display_data"
    },
    {
     "data": {
      "text/html": [
       "<pre style=\"white-space:pre;overflow-x:auto;line-height:normal;font-family:Menlo,'DejaVu Sans Mono',consolas,'Courier New',monospace\"><span style=\"font-weight: bold\"> Non-trainable params: </span><span style=\"color: #00af00; text-decoration-color: #00af00\">0</span> (0.00 B)\n",
       "</pre>\n"
      ],
      "text/plain": [
       "\u001b[1m Non-trainable params: \u001b[0m\u001b[38;5;34m0\u001b[0m (0.00 B)\n"
      ]
     },
     "metadata": {},
     "output_type": "display_data"
    }
   ],
   "source": [
    "modelo_mlp_bin = keras.Sequential([\n",
    "    keras.layers.Input(np.shape(x_treino_bin.iloc[0, :])),\n",
    "    keras.layers.Dense(64, keras.activations.relu),\n",
    "    keras.layers.Dense(32, keras.activations.relu),\n",
    "    keras.layers.Dense(1, keras.activations.sigmoid)\n",
    "])\n",
    "modelo_mlp_bin.compile(\n",
    "    keras.optimizers.Adam(),\n",
    "    keras.losses.BinaryCrossentropy(),\n",
    "    metrics=[keras.metrics.BinaryAccuracy()]\n",
    ")\n",
    "modelo_mlp_bin.summary()"
   ]
  },
  {
   "cell_type": "code",
   "execution_count": 17,
   "metadata": {},
   "outputs": [
    {
     "data": {
      "image/png": "[encoded data removed]",
      "text/plain": [
       "<Figure size 640x480 with 1 Axes>"
      ]
     },
     "metadata": {},
     "output_type": "display_data"
    }
   ],
   "source": [
    "historico_bin = modelo_mlp_bin.fit(x_treino_bin, y_treino_bin, epochs=500, verbose=0)\n",
    "\n",
    "pd.DataFrame(historico_bin.history).plot()\n",
    "plt.grid(True)\n",
    "plt.ylim(0, 1.2)\n",
    "plt.show()"
   ]
  },
  {
   "cell_type": "code",
   "execution_count": 18,
   "metadata": {},
   "outputs": [
    {
     "name": "stdout",
     "output_type": "stream",
     "text": [
      "Accuracy: 87.66%\n",
      "F1:       87.21%\n"
     ]
    }
   ],
   "source": [
    "predicao_mlp_bin = modelo_mlp_bin.predict(x_teste_bin, verbose=0) > .75 # Limiar de 75% de confiança\n",
    "\n",
    "mensagem = f\"\"\"Accuracy: {accuracy_score(y_teste_bin, predicao_mlp_bin):>5.2%}\n",
    "F1: {f1_score(y_teste_bin, predicao_mlp_bin, average='macro'):>12.2%}\"\"\"\n",
    "print(mensagem)"
   ]
  },
  {
   "cell_type": "code",
   "execution_count": 19,
   "metadata": {},
   "outputs": [
    {
     "data": {
      "image/png": "[encoded data removed]",
      "text/plain": [
       "<Figure size 640x480 with 2 Axes>"
      ]
     },
     "metadata": {},
     "output_type": "display_data"
    }
   ],
   "source": [
    "ConfusionMatrixDisplay.from_predictions(y_teste_bin, predicao_mlp_bin)\n",
    "plt.show()"
   ]
  },
  {
   "cell_type": "code",
   "execution_count": null,
   "metadata": {},
   "outputs": [],
   "source": []
  }
 ],
 "metadata": {
  "kernelspec": {
   "display_name": ".venv",
   "language": "python",
   "name": "python3"
  },
  "language_info": {
   "codemirror_mode": {
    "name": "ipython",
    "version": 3
   },
   "file_extension": ".py",
   "mimetype": "text/x-python",
   "name": "python",
   "nbconvert_exporter": "python",
   "pygments_lexer": "ipython3",
   "version": "3.12.5"
  }
 },
 "nbformat": 4,
 "nbformat_minor": 2
}
